{
  "nbformat": 4,
  "nbformat_minor": 0,
  "metadata": {
    "colab": {
      "name": "Untitled12.ipynb",
      "provenance": [],
      "authorship_tag": "ABX9TyPXFEiavqcOVSPyA5bl50jl",
      "include_colab_link": true
    },
    "kernelspec": {
      "name": "python3",
      "display_name": "Python 3"
    }
  },
  "cells": [
    {
      "cell_type": "markdown",
      "metadata": {
        "id": "view-in-github",
        "colab_type": "text"
      },
      "source": [
        "<a href=\"https://colab.research.google.com/github/Ps-PrithviShah/Mavericks/blob/main/calculations.ipynb\" target=\"_parent\"><img src=\"https://colab.research.google.com/assets/colab-badge.svg\" alt=\"Open In Colab\"/></a>"
      ]
    },
    {
      "cell_type": "code",
      "metadata": {
        "id": "1qrgTK4yamNi"
      },
      "source": [
        "wb=1.57     #wheelbase(m)\n",
        "tw=1200     #trackwidth(m)\n",
        "wd=40       #wieghtdistribution(%)\n",
        "cg=0.3      #C.G. Height(m)\n",
        "wv=250      #weight of the car(kg)\n",
        "up=0.3      #upad\n",
        "ut=0.5      #utyre\n",
        "tr=0.2295   #tyre radius(m)\n",
        "l2=6\n",
        "l1=1\n",
        "mcbd=15.875 #master cylinder bore diameter(mm)\n",
        "bc=2        #brake caliper\n",
        "bcbd=30     #brake calipers bore diameter(mm)\n",
        "re=72.3     #effective radius(mm)\n",
        "bdd=170     #brake disc diameter(mm)\n",
        "i=1.4       #moment of inertia\n",
        "g=9.81\n",
        "pi=22/7"
      ],
      "execution_count": 22,
      "outputs": []
    },
    {
      "cell_type": "code",
      "metadata": {
        "id": "z90cJcrCj6_r",
        "outputId": "bc729982-1539-4845-d705-14f008e18b58",
        "colab": {
          "base_uri": "https://localhost:8080/",
          "height": 34
        }
      },
      "source": [
        "dlt=(cg*wv*ut*g)/(wb)     #Dynamic Load Transfer\n",
        "print(dlt)"
      ],
      "execution_count": 23,
      "outputs": [
        {
          "output_type": "stream",
          "text": [
            "234.31528662420382\n"
          ],
          "name": "stdout"
        }
      ]
    }
  ]
}