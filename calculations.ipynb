{
  "nbformat": 4,
  "nbformat_minor": 0,
  "metadata": {
    "colab": {
      "name": "Untitled12.ipynb",
      "provenance": [],
      "authorship_tag": "ABX9TyN8cNatEgK5sJQz8EkQ6cx1",
      "include_colab_link": true
    },
    "kernelspec": {
      "name": "python3",
      "display_name": "Python 3"
    }
  },
  "cells": [
    {
      "cell_type": "markdown",
      "metadata": {
        "id": "view-in-github",
        "colab_type": "text"
      },
      "source": [
        "<a href=\"https://colab.research.google.com/github/Ps-PrithviShah/Mavericks/blob/main/calculations.ipynb\" target=\"_parent\"><img src=\"https://colab.research.google.com/assets/colab-badge.svg\" alt=\"Open In Colab\"/></a>"
      ]
    },
    {
      "cell_type": "code",
      "metadata": {
        "id": "1qrgTK4yamNi"
      },
      "source": [
        "wb=1.57     #wheelbase(m)\n",
        "tw=1200     #trackwidth(m)\n",
        "wd=40       #wieghtdistribution(%)\n",
        "cg=0.3      #C.G. Height(m)\n",
        "wv=250      #weight of the car(kg)\n",
        "up=0.3      #upad\n",
        "ut=0.5      #utyre\n",
        "tr=0.2295   #tyre radius(m)\n",
        "l2=6\n",
        "l1=1\n",
        "mcbd=15.875 #master cylinder bore diameter(mm)\n",
        "bc=2        #brake caliper\n",
        "bcbd=30     #brake calipers bore diameter(mm)\n",
        "re=72.3     #effective radius(mm)\n",
        "bdd=170     #brake disc diameter(mm)\n",
        "i=1.4       #moment of inertia\n",
        "g=9.81\n",
        "pi=22/7"
      ],
      "execution_count": 17,
      "outputs": []
    },
    {
      "cell_type": "code",
      "metadata": {
        "id": "z90cJcrCj6_r",
        "outputId": "de610e1f-6a82-451b-81d8-250954ed5f6a",
        "colab": {
          "base_uri": "https://localhost:8080/",
          "height": 34
        }
      },
      "source": [
        "#Dynamic Load Transfer\n",
        "dlt=(cg*wv*ut*g)/(9.81*(wb))\n",
        "print(\"Dynamic Load Transfer is %f Kg\"%dlt)"
      ],
      "execution_count": 21,
      "outputs": [
        {
          "output_type": "stream",
          "text": [
            "Dynamic Load Transfer is 23.885350 Kg\n"
          ],
          "name": "stdout"
        }
      ]
    },
    {
      "cell_type": "code",
      "metadata": {
        "id": "yq5z2dVmoJ8b",
        "outputId": "ab2f8999-9713-4f58-aa51-a757836cf92c",
        "colab": {
          "base_uri": "https://localhost:8080/",
          "height": 84
        }
      },
      "source": [
        "# axel\n",
        "fa=100+dlt\n",
        "ra=150-dlt\n",
        "ora=ra/2\n",
        "ofa=fa/2\n",
        "print(\"Front axel=%f\\nRear axel=%f\"%(fa,ra))\n",
        "print(\"one front axel=%f\\none rear axel=%f\"%(ora,ofa))"
      ],
      "execution_count": 23,
      "outputs": [
        {
          "output_type": "stream",
          "text": [
            "Front axel=123.885350\n",
            "Rear axel=126.114650\n",
            "one front axel=63.057325\n",
            "one rear axel=61.942675\n"
          ],
          "name": "stdout"
        }
      ]
    }
  ]
}